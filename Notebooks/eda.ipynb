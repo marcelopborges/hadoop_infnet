{
 "cells": [
  {
   "cell_type": "code",
   "execution_count": null,
   "id": "af0606a0-6de8-47fc-b002-94a69f0d1d6b",
   "metadata": {
    "tags": []
   },
   "outputs": [],
   "source": [
    "import pandas as pd\n",
    "import chardet\n",
    "import os\n",
    "from tqdm import tqdm\n",
    "import time"
   ]
  },
  {
   "cell_type": "code",
   "execution_count": null,
   "id": "ae95caa0-052d-445a-a1aa-9f6f4e327f33",
   "metadata": {
    "tags": []
   },
   "outputs": [],
   "source": [
    "file_path = '/home/marceloborges/Datasets/CAGED/tratada/bs_tratado.csv'"
   ]
  },
  {
   "cell_type": "code",
   "execution_count": null,
   "id": "8c24b274-530f-4007-81f9-e9de79f8623b",
   "metadata": {
    "tags": []
   },
   "outputs": [],
   "source": [
    "dimension_path = '/home/marceloborges/Datasets/CAGED/NOVO CAGED/Layout Não-identificado Novo Caged Movimentação.xlsx'"
   ]
  },
  {
   "cell_type": "code",
   "execution_count": null,
   "id": "c0c25bc0-01a8-41b4-9f19-736cbd1565fb",
   "metadata": {
    "tags": []
   },
   "outputs": [],
   "source": [
    "num_bytes_to_read = 10000"
   ]
  },
  {
   "cell_type": "code",
   "execution_count": null,
   "id": "00027ecc-43df-4b21-afe0-a1f479158786",
   "metadata": {
    "tags": []
   },
   "outputs": [],
   "source": [
    "with open(file_path, 'rb') as f:\n",
    "    result = chardet.detect(f.read(num_bytes_to_read))\n",
    "\n",
    "print(result['encoding'])"
   ]
  },
  {
   "cell_type": "code",
   "execution_count": null,
   "id": "79599efe-e026-430a-ab94-eb232cdf1c2e",
   "metadata": {
    "tags": []
   },
   "outputs": [],
   "source": [
    "lines_to_display = 10  # Número de linhas para exibir antes e depois da linha problemática\n",
    "\n",
    "with open(file_path, 'r', encoding=result['encoding']) as file:\n",
    "    all_lines = file.readlines()\n",
    "    start = max(3633790 - lines_to_display, 0)\n",
    "    end = min(3633790 + lines_to_display, len(all_lines))\n",
    "    \n",
    "    for i in range(start, end):\n",
    "        print(f\"Line {i}: {all_lines[i].strip()}\")"
   ]
  },
  {
   "cell_type": "code",
   "execution_count": null,
   "id": "1de49f7b-9f1d-4ec6-b644-1056331d045e",
   "metadata": {
    "tags": []
   },
   "outputs": [],
   "source": [
    "header_str = \"competênciamov;região;uf;município;seção;subclasse;saldomovimentação;cbo2002ocupação;categoria;graudeinstrução;idade;horascontratuais;raçacor;sexo;tipoempregador;tipoestabelecimento;tipomovimentação;tipodedeficiência;indtrabintermitente;indtrabparcial;salário;tamestabjan;indicadoraprendiz;origemdainformação;competênciadec;competênciaexc;indicadordeexclusão;indicadordeforadoprazo;unidadesaláriocódigo;valorsaláriofixo\"\n",
    "\n",
    "with open(file_path, 'r', encoding=result['encoding']) as file:\n",
    "    lines = file.readlines()\n",
    "\n",
    "# Mantenha apenas as linhas que não são iguais ao cabeçalho\n",
    "lines_to_keep = [line for line in lines if header_str not in line]\n",
    "\n",
    "# Escreva o arquivo novamente com as linhas filtradas\n",
    "with open(file_path, 'w', encoding=result['encoding']) as file:\n",
    "    file.writelines(lines_to_keep)\n"
   ]
  },
  {
   "cell_type": "code",
   "execution_count": null,
   "id": "7a072a04-564b-4fb0-b9cb-4de495d601e2",
   "metadata": {
    "tags": []
   },
   "outputs": [],
   "source": [
    "with open(file_path, 'r', encoding=result['encoding']) as file:\n",
    "    lines = file.readlines()\n",
    "\n",
    "lines_to_keep = [lines[0]]  # Mantendo a primeira linha como cabeçalho original\n",
    "excluded_lines = []\n",
    "\n",
    "for line in lines[1:]:\n",
    "    first_column = line.split(';')[0].strip()\n",
    "    if first_column.isdigit():\n",
    "        lines_to_keep.append(line)\n",
    "    else:\n",
    "        excluded_lines.append(line)\n",
    "\n",
    "# Reescrevendo o arquivo com as linhas filtradas\n",
    "with open(file_path, 'w', encoding=result['encoding']) as file:\n",
    "    file.writelines(lines_to_keep)\n"
   ]
  },
  {
   "cell_type": "code",
   "execution_count": null,
   "id": "69ac29b0-e078-46f0-9ff6-5fea30e96da9",
   "metadata": {
    "tags": []
   },
   "outputs": [],
   "source": [
    "problematic_lines = []\n",
    "valid_lines = []\n",
    "\n",
    "with open(file_path, 'r', encoding=result['encoding']) as file:\n",
    "    lines = file.readlines()\n",
    "\n",
    "    for line in lines:\n",
    "        # Verifica se a primeira coluna (antes do primeiro ';') é numérica\n",
    "        first_column = line.split(';')[0]\n",
    "        if not first_column.isdigit():\n",
    "            problematic_lines.append(line)\n",
    "        else:\n",
    "            valid_lines.append(line)\n",
    "\n",
    "# Salva as linhas problemáticas em um arquivo separado\n",
    "with open(\"problematic_lines.txt\", 'w', encoding=result['encoding']) as file:\n",
    "    file.writelines(problematic_lines)\n",
    "\n",
    "# Escreve de volta as linhas válidas no arquivo original\n",
    "with open(file_path, 'w', encoding=result['encoding']) as file:\n",
    "    file.writelines(valid_lines)\n",
    "\n"
   ]
  },
  {
   "cell_type": "code",
   "execution_count": null,
   "id": "3aeedad7-e922-40d0-869e-2a10418ad8b3",
   "metadata": {
    "tags": []
   },
   "outputs": [],
   "source": [
    "df = pd.read_csv(file_path, sep=';',encoding=result['encoding'])"
   ]
  },
  {
   "cell_type": "code",
   "execution_count": null,
   "id": "335c1bd1-c9d9-4868-bb33-e539c8fae255",
   "metadata": {
    "tags": []
   },
   "outputs": [],
   "source": [
    "df.columns"
   ]
  },
  {
   "cell_type": "code",
   "execution_count": null,
   "id": "c990af61-4a1d-4e17-969b-86a4a44ce1b2",
   "metadata": {
    "tags": []
   },
   "outputs": [],
   "source": [
    "df['tipomovimentação'].unique()"
   ]
  },
  {
   "cell_type": "code",
   "execution_count": null,
   "id": "a8a92b2b-4328-46f3-a945-72d1856159f9",
   "metadata": {
    "tags": []
   },
   "outputs": [],
   "source": [
    "df.to_csv('exemplo.csv', index=False)"
   ]
  },
  {
   "cell_type": "code",
   "execution_count": null,
   "id": "cf6b1931-61b3-4828-96ab-262c74dd887d",
   "metadata": {
    "tags": []
   },
   "outputs": [],
   "source": [
    "abas = pd.ExcelFile(dimension_path)"
   ]
  },
  {
   "cell_type": "code",
   "execution_count": null,
   "id": "0fe372c3-5044-4c90-bd67-779c5231e4f5",
   "metadata": {},
   "outputs": [],
   "source": [
    "dimension={}\n",
    "for sheet_name in abas.sheet_names:\n",
    "    if not sheet_name=='Layout':\n",
    "        dimension[sheet_name] = abas.parse(sheet_name)"
   ]
  },
  {
   "cell_type": "code",
   "execution_count": null,
   "id": "286dea42-a756-4a45-8a69-cb021d0ff2a5",
   "metadata": {
    "tags": []
   },
   "outputs": [],
   "source": [
    "if not os.path.exists('dataframes_csv'):\n",
    "    os.mkdir('dataframes_csv')"
   ]
  },
  {
   "cell_type": "code",
   "execution_count": null,
   "id": "a3e05504-3a04-4d5e-a6a0-981be57900f2",
   "metadata": {
    "tags": []
   },
   "outputs": [],
   "source": [
    "progress_bar = tqdm(total=len(dimension), desc=\"Processando\")\n",
    "for sheet_name, df in dimension.items():\n",
    "    csv_filename = f'dataframes_csv/{sheet_name}.csv'\n",
    "    df.to_csv(csv_filename, index=False)\n",
    "    progress_bar.update(1)\n",
    "    time.sleep(0.1)\n",
    "progress_bar.close()"
   ]
  },
  {
   "cell_type": "code",
   "execution_count": null,
   "id": "72d3a2c5-ba5a-4148-998e-9dfc5e449188",
   "metadata": {
    "tags": []
   },
   "outputs": [],
   "source": [
    "df.columns()"
   ]
  },
  {
   "cell_type": "code",
   "execution_count": null,
   "id": "f37c3247-a54b-4ee2-aa0e-22f692491976",
   "metadata": {},
   "outputs": [],
   "source": []
  }
 ],
 "metadata": {
  "kernelspec": {
   "display_name": "Python 3 (ipykernel)",
   "language": "python",
   "name": "python3"
  },
  "language_info": {
   "codemirror_mode": {
    "name": "ipython",
    "version": 3
   },
   "file_extension": ".py",
   "mimetype": "text/x-python",
   "name": "python",
   "nbconvert_exporter": "python",
   "pygments_lexer": "ipython3",
   "version": "3.10.11"
  }
 },
 "nbformat": 4,
 "nbformat_minor": 5
}
